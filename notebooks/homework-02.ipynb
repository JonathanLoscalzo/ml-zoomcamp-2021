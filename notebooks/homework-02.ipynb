{
 "cells": [
  {
   "cell_type": "code",
   "execution_count": 2,
   "id": "40293960",
   "metadata": {},
   "outputs": [],
   "source": [
    "%config Completer.use_jedi = False"
   ]
  },
  {
   "cell_type": "code",
   "execution_count": 3,
   "id": "8e179008",
   "metadata": {},
   "outputs": [],
   "source": [
    "import pandas as pd\n",
    "import seaborn as sns\n",
    "import numpy as np\n",
    "import matplotlib.pyplot as plt\n",
    "\n",
    "plt.rcParams[\"figure.figsize\"] = [10,8]"
   ]
  },
  {
   "cell_type": "code",
   "execution_count": 4,
   "id": "de0fce7a",
   "metadata": {},
   "outputs": [
    {
     "name": "stdout",
     "output_type": "stream",
     "text": [
      "--2021-09-19 18:48:07--  https://raw.githubusercontent.com/alexeygrigorev/datasets/master/AB_NYC_2019.csv\n",
      "Resolviendo raw.githubusercontent.com (raw.githubusercontent.com)... 185.199.109.133, 185.199.110.133, 185.199.108.133, ...\n",
      "Conectando con raw.githubusercontent.com (raw.githubusercontent.com)[185.199.109.133]:443... conectado.\n",
      "Petición HTTP enviada, esperando respuesta... 200 OK\n",
      "Longitud: 7077973 (6,8M) [text/plain]\n",
      "Guardando como: “../data/raw/AB_NYC_2019-hw2.csv”\n",
      "\n",
      "../data/raw/AB_NYC_ 100%[===================>]   6,75M  11,9MB/s    en 0,6s    \n",
      "\n",
      "2021-09-19 18:48:08 (11,9 MB/s) - “../data/raw/AB_NYC_2019-hw2.csv” guardado [7077973/7077973]\n",
      "\n"
     ]
    }
   ],
   "source": [
    "!wget -O ../data/raw/AB_NYC_2019-hw2.csv https://raw.githubusercontent.com/alexeygrigorev/datasets/master/AB_NYC_2019.csv"
   ]
  },
  {
   "cell_type": "markdown",
   "id": "60b88195",
   "metadata": {},
   "source": [
    "### EDA\n",
    "\n",
    "* Load the data.\n",
    "* Look at the `price` variable. Does it have a long tail? "
   ]
  },
  {
   "cell_type": "code",
   "execution_count": 5,
   "id": "ad87f6f4",
   "metadata": {},
   "outputs": [
    {
     "data": {
      "text/plain": [
       "<matplotlib.legend.Legend at 0x7fe5eac11be0>"
      ]
     },
     "execution_count": 5,
     "metadata": {},
     "output_type": "execute_result"
    },
    {
     "data": {
      "image/png": "[encoded data removed]",
      "text/plain": [
       "<Figure size 1080x576 with 2 Axes>"
      ]
     },
     "metadata": {
      "needs_background": "light"
     },
     "output_type": "display_data"
    }
   ],
   "source": [
    "df = pd.read_csv('../data/raw/AB_NYC_2019-hw2.csv', index_col=['id']).reset_index('id', drop=True)\n",
    "fig, axes = plt.subplots(1,2, figsize=(15,8))\n",
    "\n",
    "log_prices = np.log1p(df.price.copy())\n",
    "prices = df.price.copy()\n",
    "\n",
    "log_prices.plot.hist(bins=60, ax=axes[0], label=\"log(price)\")\n",
    "axes[0].axvline(x=log_prices.median(), color=\"cyan\", linestyle=\"--\", label=\"median\")\n",
    "axes[0].axvline(x=log_prices.mean(), color=\"red\", linestyle=\"--\", label=\"mean\")\n",
    "axes[0].legend()\n",
    "\n",
    "\n",
    "prices.plot.hist(bins=100, ax=axes[1])\n",
    "axes[1].axvline(x=prices.median(), color=\"cyan\", linestyle=\"--\", label=\"median\")\n",
    "axes[1].axvline(x=prices.mean(), color=\"red\", linestyle=\"--\", label=\"mean\")\n",
    "axes[1].legend()\n"
   ]
  },
  {
   "cell_type": "code",
   "execution_count": 6,
   "id": "bbc58c0f",
   "metadata": {},
   "outputs": [],
   "source": [
    "# NOTES: \n",
    "# asymmetry\n",
    "# mean < median: left tail \n",
    "# mean > median: right tail\n",
    "\n",
    "# kurtosis: describes the peakedness of the distribution.\n",
    "# Si kurtosis<3 la distribución es Platicúrtica\n",
    "# Si kurtosis=3 la distribución es Mesocúrtica\n",
    "# Si kurtosis>3 la distribución es Leptocúrtica\n",
    "#  High kurtosis in a data set is an indicator that data has heavy outliers.\n",
    "#  Low kurtosis in a data set is an indicator that data has lack of outliers.\n",
    "\n",
    "# skew: Skewness is a measure of asymmetry of a distribution.\n",
    "# When a distribution is asymmetrical the tail of the distribution is skewed to one side-to the right or to the left.\n",
    "# When the value of the skewness is negative, the tail of the distribution is longer towards the left hand side of the curve.\n",
    "# When the value of the skewness is positive, the tail of the distribution is longer towards the right hand side of the curve\n",
    "#  If the skewness is between -0.5 and 0.5, the data are fairly symmetrical\n",
    "#  If the skewness is between -1 and — 0.5 or between 0.5 and 1, the data are moderately skewed\n",
    "#  If the skewness is less than -1 or greater than 1, the data are highly skewed\n",
    "\n",
    "\n",
    "# Skewness essentially measures the symmetry of the distribution, while kurtosis determines the heaviness of the distribution tails.\n",
    "# REF1: https://medium.com/@atanudan/kurtosis-skew-function-in-pandas-aa63d72e20de\n",
    "# REF2: https://www.odiolaestadistica.com/estadistica-python/asimetria/"
   ]
  },
  {
   "cell_type": "code",
   "execution_count": 7,
   "id": "b5e4a1de",
   "metadata": {},
   "outputs": [],
   "source": [
    "def tail(values):\n",
    "    data = {\n",
    "        \"skew\": values.skew(), \n",
    "        \"kurtosis\": values.kurtosis(), \n",
    "        \"tail\": \"left\" if values.mean() < values.median() else \"right\"\n",
    "    }\n",
    "    \n",
    "    if abs(values.skew()) <= 0.5: \n",
    "        data['skewness'] = \"fairly simmetrical\"\n",
    "    elif 0.5 < abs(values.skew()) < 1:\n",
    "        data['skewness'] = \"moderately skewed\"\n",
    "    else: \n",
    "        data['skewness'] = \"highly skewed\"\n",
    "        \n",
    "        \n",
    "    if data['kurtosis'] < 3: \n",
    "        data['peak'] = \"Platicúrtica\"\n",
    "    elif data['kurtosis'] == 3:\n",
    "        data['peak'] = \"Mesocúrtica\"\n",
    "    else: \n",
    "        data['peak'] = \"Leptocúrtica\"\n",
    "        \n",
    "    return data"
   ]
  },
  {
   "cell_type": "code",
   "execution_count": 8,
   "id": "7abd3838",
   "metadata": {},
   "outputs": [
    {
     "name": "stdout",
     "output_type": "stream",
     "text": [
      "Without log  {'skew': 19.118938995046033, 'kurtosis': 585.6728788988286, 'tail': 'right', 'skewness': 'highly skewed', 'peak': 'Leptocúrtica'}\n",
      "With log  {'skew': 0.5531045462041445, 'kurtosis': 1.7427227060507144, 'tail': 'right', 'skewness': 'moderately skewed', 'peak': 'Platicúrtica'}\n"
     ]
    }
   ],
   "source": [
    "print(\"Without log \", tail(prices))\n",
    "print(\"With log \", tail(log_prices))"
   ]
  },
  {
   "cell_type": "markdown",
   "id": "8afeb445",
   "metadata": {},
   "source": [
    "### Answer: if we don't rescale price feature, it has a long right tail with a heavy peak."
   ]
  },
  {
   "cell_type": "markdown",
   "id": "659bbee7",
   "metadata": {},
   "source": [
    "\n",
    "\n",
    "### Features\n",
    "\n",
    "For the rest of the homework, you'll need to use only these columns:\n",
    "\n",
    "* `'latitude'`,\n",
    "* `'longitude'`,\n",
    "* `'price'`,\n",
    "* `'minimum_nights'`,\n",
    "* `'number_of_reviews'`,\n",
    "* `'reviews_per_month'`,\n",
    "* `'calculated_host_listings_count'`,\n",
    "* `'availability_365'`\n",
    "\n",
    "Select only them."
   ]
  },
  {
   "cell_type": "code",
   "execution_count": 9,
   "id": "f237b517",
   "metadata": {},
   "outputs": [],
   "source": [
    "columns = ['latitude', 'longitude', 'price', 'minimum_nights', 'number_of_reviews', 'reviews_per_month', 'calculated_host_listings_count', 'availability_365', ]\n",
    "df = df[columns]"
   ]
  },
  {
   "cell_type": "markdown",
   "id": "0a6f9b07",
   "metadata": {},
   "source": [
    "### Question 1\n",
    "\n",
    "Find a feature with missing values. How many missing values does it have?"
   ]
  },
  {
   "cell_type": "code",
   "execution_count": 10,
   "id": "1fc1f435",
   "metadata": {},
   "outputs": [
    {
     "data": {
      "text/plain": [
       "latitude                              0\n",
       "longitude                             0\n",
       "price                                 0\n",
       "minimum_nights                        0\n",
       "number_of_reviews                     0\n",
       "reviews_per_month                 10052\n",
       "calculated_host_listings_count        0\n",
       "availability_365                      0\n",
       "dtype: int64"
      ]
     },
     "execution_count": 10,
     "metadata": {},
     "output_type": "execute_result"
    }
   ],
   "source": [
    "df.isna().sum()"
   ]
  },
  {
   "cell_type": "code",
   "execution_count": 11,
   "id": "7fb6285b",
   "metadata": {},
   "outputs": [],
   "source": [
    "### Answer 1: reviews_per_month has 10052 missing values"
   ]
  },
  {
   "cell_type": "markdown",
   "id": "2097b7a8",
   "metadata": {},
   "source": [
    "### Question 2\n",
    "\n",
    "What's the median (50% percentile) for variable 'minimum_nights'?"
   ]
  },
  {
   "cell_type": "code",
   "execution_count": 12,
   "id": "eabea929",
   "metadata": {},
   "outputs": [
    {
     "data": {
      "text/plain": [
       "'Median of minimum_nights is 3.0'"
      ]
     },
     "execution_count": 12,
     "metadata": {},
     "output_type": "execute_result"
    }
   ],
   "source": [
    "\"Median of minimum_nights is %s\" % df.minimum_nights.median()"
   ]
  },
  {
   "cell_type": "markdown",
   "id": "95a35e7c",
   "metadata": {},
   "source": [
    "### Split the data\n",
    "\n",
    "* Shuffle the initial dataset, use seed `42`.\n",
    "* Split your data in train/val/test sets, with 60%/20%/20% distribution.\n",
    "* Make sure that the target value ('price') is not in your dataframe.\n",
    "* Apply the log transformation to the price variable using the `np.log1p()` function."
   ]
  },
  {
   "cell_type": "code",
   "execution_count": 13,
   "id": "d8b3fb21",
   "metadata": {},
   "outputs": [],
   "source": [
    "\n",
    "#Shuffle the initial dataset, use seed `42`.\n",
    "np.random.seed(42)\n",
    "features = df.columns[~df.columns.isin(['price', 'price_log'])]\n",
    "\n",
    "def data_ingestion(df):\n",
    "    df = df.copy()\n",
    "    \n",
    "    # Apply the log transformation to the price variable using the np.log1p() function.\n",
    "    df['price_log'] = np.log1p(df.price)\n",
    "\n",
    "    # Split your data in train/val/test sets, with 60%/20%/20% distribution.\n",
    "    n = df.shape[0]\n",
    "    n_test = round(n * 0.2)\n",
    "    n_train = n - 2 * n_test\n",
    "\n",
    "    idx = np.arange(n)\n",
    "    np.random.shuffle(idx)\n",
    "\n",
    "#     print(f\"Train size: {n_train} - Val size {n_test} - Test size:{n_test}\")\n",
    "    \n",
    "    X = df[features]\n",
    "    y = df[['price_log']]\n",
    "\n",
    "    X_train = X.iloc[idx[:n_train]]\n",
    "    X_val = X.iloc[idx[n_train:n_train+n_test]]\n",
    "    X_test = X.iloc[idx[n_train+n_test:]]\n",
    "\n",
    "    y_train = y.iloc[idx[:n_train]]\n",
    "    y_val = y.iloc[idx[n_train:n_train+n_test]]\n",
    "    y_test = y.iloc[idx[n_train+n_test:]]\n",
    "    \n",
    "    return X, y, X_train, X_val, X_test, y_train, y_val, y_test\n",
    "\n",
    "(\n",
    "    X, y, \n",
    "    X_train, X_val, X_test, \n",
    "    y_train, y_val, y_test \n",
    ") = data_ingestion(df)\n",
    "\n",
    "# Make sure that the target value ('price') is not in your dataframe.\n",
    "assert 'price' not in X.columns\n",
    "assert 'price_log' in y.columns\n",
    "\n"
   ]
  },
  {
   "cell_type": "markdown",
   "id": "455f0c7f",
   "metadata": {},
   "source": [
    "### Question 3\n",
    "\n",
    "* We need to deal with missing values for the column from Q1.\n",
    "* We have two options: fill it with 0 or with the mean of this variable.\n",
    "* Try both options. For each, train a linear regression model without regularization using the code from the lessons.\n",
    "* For computing the mean, use the training only!\n",
    "* Use the validation dataset to evaluate the models and compare the RMSE of each option.\n",
    "* Round the RMSE scores to 2 decimal digits using `round(score, 2)`\n",
    "* Which option gives better RMSE?"
   ]
  },
  {
   "cell_type": "code",
   "execution_count": 14,
   "id": "688e1df6",
   "metadata": {},
   "outputs": [],
   "source": [
    "minimum_nights_mean = X_train.minimum_nights.mean()\n",
    "\n",
    "def prepare_X(df, mean=False):\n",
    "    df = df.copy()\n",
    "    \n",
    "    if mean==False:\n",
    "        df.reviews_per_month = df.reviews_per_month.fillna(0)\n",
    "    else:\n",
    "        df.reviews_per_month = df.reviews_per_month.fillna(minimum_nights_mean)\n",
    "    \n",
    "    return df\n",
    "\n",
    "def rmse(y, y_pred):\n",
    "    se = (y - y_pred) ** 2\n",
    "    mse = se.mean()\n",
    "    return np.sqrt(mse)\n"
   ]
  },
  {
   "cell_type": "code",
   "execution_count": 15,
   "id": "5b741488",
   "metadata": {},
   "outputs": [],
   "source": [
    "assert prepare_X(X).reviews_per_month.isna().sum() == 0, \"reviews_per_month must not have null values\"\n",
    "assert all(elem in prepare_X(X).columns for elem in features), \"has all features\""
   ]
  },
  {
   "cell_type": "code",
   "execution_count": 46,
   "id": "42734dcf",
   "metadata": {},
   "outputs": [],
   "source": [
    "class LinearModel:\n",
    "    def __init__(self):\n",
    "        self.w0 = 0\n",
    "        self.w = np.array([])\n",
    "        \n",
    "    def train(self, X, y):\n",
    "        X = X.copy().values\n",
    "        ones = np.ones(X.shape[0])\n",
    "        X = np.column_stack([ones, X])\n",
    "        XTX = X.T.dot(X)\n",
    "        XTX_inv = np.linalg.inv(XTX)\n",
    "        w_full = XTX_inv.dot(X.T).dot(y)\n",
    "        \n",
    "        self.w0 =  w_full[0]\n",
    "        self.w = w_full[1:]\n",
    "    \n",
    "    def predict(self, X):\n",
    "        return (self.w0 + X.dot(self.w) ).rename(columns = {0:'prediction'})\n",
    "    \n",
    "    def __rmse(self, y, y_pred):\n",
    "        se = (y - y_pred) ** 2\n",
    "        mse = se.mean()\n",
    "        return np.sqrt(mse)\n",
    "    \n",
    "    def score(self, X, y, rounded=2):\n",
    "        return round(self.__rmse(y.values, self.predict(X).values), rounded)"
   ]
  },
  {
   "cell_type": "code",
   "execution_count": 47,
   "id": "a474eae1",
   "metadata": {},
   "outputs": [],
   "source": [
    "model = LinearModel()\n",
    "model_mean = LinearModel()\n",
    "\n",
    "model.train(prepare_X(X_train, mean=False), y_train)\n",
    "model_mean.train(prepare_X(X_train, mean=True), y_train)"
   ]
  },
  {
   "cell_type": "code",
   "execution_count": 62,
   "id": "41b95307",
   "metadata": {},
   "outputs": [
    {
     "name": "stdout",
     "output_type": "stream",
     "text": [
      ">> Best way to fill NA's: same\n",
      "score with fillna(0): 0.64 - score with fillna(mean): 0.64\n"
     ]
    }
   ],
   "source": [
    "score_with_0 = model.score(prepare_X(X_val), y_val,)\n",
    "score_with_mean = model_mean.score(prepare_X(X_val, mean=True), y_val)\n",
    "\n",
    "best_strategy = \"\" \n",
    "if score_with_0 < score_with_mean:\n",
    "    best_strategy = 'with 0'\n",
    "elif score_with_0 > score_with_mean:\n",
    "    best_strategy = 'with mean'\n",
    "else:\n",
    "    best_strategy = 'same'\n",
    "print(f\">> Best way to fill NA's: { best_strategy }\")\n",
    "print(f\"score with fillna(0): {score_with_0} - score with fillna(mean): {score_with_mean}\")"
   ]
  },
  {
   "cell_type": "markdown",
   "id": "464f49a7",
   "metadata": {},
   "source": [
    "### Question 4\n",
    "\n",
    "* Now let's train a regularized linear regression.\n",
    "* For this question, fill the NAs with 0. \n",
    "* Try different values of `r` from this list: `[0, 0.000001, 0.0001, 0.001, 0.01, 0.1, 1, 5, 10]`.\n",
    "* Use RMSE to evaluate the model on the validation dataset.\n",
    "* Round the RMSE scores to 2 decimal digits.\n",
    "* Which `r` gives the best RMSE?\n",
    "\n",
    "If there are multiple options, select the smallest `r`."
   ]
  },
  {
   "cell_type": "code",
   "execution_count": 49,
   "id": "25b809b6",
   "metadata": {},
   "outputs": [],
   "source": [
    "class LinearModelRegularized(LinearModel):\n",
    "    def __init__(self, r=0.0):\n",
    "        self.w0 = 0\n",
    "        self.w = np.array([])\n",
    "        self.r = r\n",
    "        \n",
    "    def train(self, X, y, ):\n",
    "        ones = np.ones(X.shape[0])\n",
    "        X = np.column_stack([ones, X])\n",
    "        XTX = X.T.dot(X)\n",
    "        XTX = XTX + self.r * np.eye(XTX.shape[0])\n",
    "        \n",
    "        XTX_inv = np.linalg.inv(XTX)\n",
    "        w_full = XTX_inv.dot(X.T).dot(y)\n",
    "        \n",
    "        self.w0 =  w_full[0]\n",
    "        self.w = w_full[1:]\n",
    "    "
   ]
  },
  {
   "cell_type": "code",
   "execution_count": 54,
   "id": "aae15544",
   "metadata": {},
   "outputs": [
    {
     "name": "stdout",
     "output_type": "stream",
     "text": [
      "Reg: 00.000000   =>   Train: 00.650 - Val: 00.640\n",
      "Reg: 00.000001   =>   Train: 00.650 - Val: 00.640\n",
      "Reg: 00.000100   =>   Train: 00.650 - Val: 00.640\n",
      "Reg: 00.001000   =>   Train: 00.650 - Val: 00.640\n",
      "Reg: 00.010000   =>   Train: 00.660 - Val: 00.650\n",
      "Reg: 00.100000   =>   Train: 00.680 - Val: 00.680\n",
      "Reg: 01.000000   =>   Train: 00.680 - Val: 00.680\n",
      "Reg: 05.000000   =>   Train: 00.680 - Val: 00.680\n",
      "Reg: 10.000000   =>   Train: 00.680 - Val: 00.680\n"
     ]
    }
   ],
   "source": [
    "models = []\n",
    "scores = [] \n",
    "\n",
    "for r in [0, 0.000001, 0.0001, 0.001, 0.01, 0.1, 1, 5, 10]:\n",
    "    model = LinearModelRegularized(r)\n",
    "    model.train(prepare_X(X_train), y_train)\n",
    "    models.append(model)\n",
    "    scores.append((r, model.score(prepare_X(X_train), y_train, 3), model.score(prepare_X(X_val), y_val), 3))\n",
    "    print(F\"Reg: {r:09.6f}   =>   Train: {model.score(prepare_X(X_train), y_train):06.3f} - Val: {model.score(prepare_X(X_val), y_val):06.3f}\")\n"
   ]
  },
  {
   "cell_type": "markdown",
   "id": "e5d7d0ce",
   "metadata": {},
   "source": [
    "### Question 5 \n",
    "\n",
    "* We used seed 42 for splitting the data. Let's find out how selecting the seed influences our score.\n",
    "* Try different seed values: `[0, 1, 2, 3, 4, 5, 6, 7, 8, 9]`.\n",
    "* For each seed, do the train/validation/test split with 60%/20%/20% distribution.\n",
    "* Fill the missing values with 0 and train a model without regularization.\n",
    "* For each seed, evaluate the model on the validation dataset and collect the RMSE scores. \n",
    "* What's the standard deviation of all the scores? To compute the standard deviation, use `np.std`.\n",
    "* Round the result to 3 decimal digits (`round(std, 3)`)\n",
    "\n",
    "\n",
    "> Note: Standard deviation shows how different the values are.\n",
    "> If it's low, then all values are approximately the same.\n",
    "> If it's high, the values are different. \n",
    "> If standard deviation of scores is low, then our model is *stable*."
   ]
  },
  {
   "cell_type": "code",
   "execution_count": 65,
   "id": "f3c6fd16",
   "metadata": {},
   "outputs": [
    {
     "name": "stdout",
     "output_type": "stream",
     "text": [
      "Seed: 0 => Train: 000.65 - Val: 000.65\n",
      "Seed: 1 => Train: 000.64 - Val: 000.65\n",
      "Seed: 2 => Train: 000.65 - Val: 000.65\n",
      "Seed: 3 => Train: 000.65 - Val: 000.64\n",
      "Seed: 4 => Train: 000.64 - Val: 000.64\n",
      "Seed: 5 => Train: 000.65 - Val: 000.63\n",
      "Seed: 6 => Train: 000.65 - Val: 000.63\n",
      "Seed: 7 => Train: 000.64 - Val: 000.65\n",
      "Seed: 8 => Train: 000.65 - Val: 000.65\n",
      "Seed: 9 => Train: 000.65 - Val: 000.64\n",
      "__________________________________________________\n",
      " STD of RMSE list 0.008\n"
     ]
    }
   ],
   "source": [
    "scores = []\n",
    "for seed in [0, 1, 2, 3, 4, 5, 6, 7, 8, 9]:\n",
    "    np.random.seed(seed)\n",
    "    (\n",
    "        X, y, \n",
    "        X_train, X_val, X_test, \n",
    "        y_train, y_val, y_test \n",
    "    ) = data_ingestion(df)\n",
    "    \n",
    "    model = LinearModel()\n",
    "    model.train(prepare_X(X_train, mean=False), y_train)\n",
    "    \n",
    "    score_train = model.score(prepare_X(X_train, mean=False), y_train)\n",
    "    score_val = model.score(prepare_X(X_val, mean=False), y_val)\n",
    "    \n",
    "    scores.append((seed, score_train, score_val))\n",
    "    \n",
    "    print(F\"Seed: {seed} => Train: {score_train:06.2f} - Val: {score_val:06.2f}\")\n",
    "\n",
    "rmse_val_sets = list(map(lambda r: r[2], scores))\n",
    "print(50*\"_\")\n",
    "print(f\" STD of RMSE list {round(np.std(rmse_val_sets),3)}\")\n",
    "\n",
    "# _ = plt.hist(rmse_val_sets, bins=5)"
   ]
  },
  {
   "cell_type": "markdown",
   "id": "578cbc92",
   "metadata": {},
   "source": [
    "### Question 6\n",
    "\n",
    "* Split the dataset like previously, use seed 9.\n",
    "* Combine train and validation datasets.\n",
    "* Fill the missing values with 0 and train a model with `r=0.001`. \n",
    "* What's the RMSE on the test dataset?"
   ]
  },
  {
   "cell_type": "code",
   "execution_count": 58,
   "id": "6e427e27",
   "metadata": {},
   "outputs": [
    {
     "name": "stdout",
     "output_type": "stream",
     "text": [
      "Seed: 9 => Train: 00.650 - Val: 00.645\n"
     ]
    }
   ],
   "source": [
    "np.random.seed(9)\n",
    "(\n",
    "    X, y, \n",
    "    X_train, X_val, X_test, \n",
    "    y_train, y_val, y_test \n",
    ") = data_ingestion(df)\n",
    "\n",
    "X_train_full = pd.concat([X_train, X_val])\n",
    "y_train_full = pd.concat([y_train, y_val])\n",
    "\n",
    "model = LinearModel()\n",
    "model.train(prepare_X(X_train_full, mean=False), y_train_full)\n",
    "\n",
    "score_test = model.score(prepare_X(X_train_full, mean=False), y_train_full, 3)\n",
    "score_test = model.score(prepare_X(X_test, mean=False), y_test, 3)\n",
    "\n",
    "print(F\"Seed: {9} => Train: {score_train:06.3f} - Val: {score_test:06.3f}\")"
   ]
  },
  {
   "cell_type": "code",
   "execution_count": null,
   "id": "746734ad",
   "metadata": {},
   "outputs": [],
   "source": []
  }
 ],
 "metadata": {
  "kernelspec": {
   "display_name": "bolsa_gatos_env",
   "language": "python",
   "name": "bolsa_gatos_env"
  },
  "language_info": {
   "codemirror_mode": {
    "name": "ipython",
    "version": 3
   },
   "file_extension": ".py",
   "mimetype": "text/x-python",
   "name": "python",
   "nbconvert_exporter": "python",
   "pygments_lexer": "ipython3",
   "version": "3.9.2"
  }
 },
 "nbformat": 4,
 "nbformat_minor": 5
}
