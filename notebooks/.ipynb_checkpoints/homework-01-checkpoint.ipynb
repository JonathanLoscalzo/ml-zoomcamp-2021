{
 "cells": [
  {
   "cell_type": "code",
   "execution_count": 24,
   "id": "3848a264",
   "metadata": {},
   "outputs": [
    {
     "name": "stdout",
     "output_type": "stream",
     "text": [
      "--2021-09-18 18:53:36--  https://raw.githubusercontent.com/alexeygrigorev/mlbookcamp-code/master/chapter-02-car-price/data.csv\n",
      "Resolviendo raw.githubusercontent.com (raw.githubusercontent.com)... 185.199.108.133, 185.199.111.133, 185.199.110.133, ...\n",
      "Conectando con raw.githubusercontent.com (raw.githubusercontent.com)[185.199.108.133]:443... conectado.\n",
      "Petición HTTP enviada, esperando respuesta... 200 OK\n",
      "Longitud: 1475504 (1,4M) [text/plain]\n",
      "Guardando como: “./data/raw/car-prices-chapter-02.csv”\n",
      "\n",
      "./data/raw/car-pric 100%[===================>]   1,41M  --.-KB/s    en 0,1s    \n",
      "\n",
      "2021-09-18 18:53:36 (12,6 MB/s) - “./data/raw/car-prices-chapter-02.csv” guardado [1475504/1475504]\n",
      "\n"
     ]
    }
   ],
   "source": [
    "!wget -O ./data/raw/car-prices-chapter-02.csv https://raw.githubusercontent.com/alexeygrigorev/mlbookcamp-code/master/chapter-02-car-price/data.csv "
   ]
  },
  {
   "cell_type": "code",
   "execution_count": 25,
   "id": "a7a37bd9",
   "metadata": {},
   "outputs": [],
   "source": [
    "filename = 'car-prices-chapter-02.csv'"
   ]
  },
  {
   "cell_type": "markdown",
   "id": "0e477a55",
   "metadata": {},
   "source": [
    "### Question 2\n",
    "\n",
    "What's the version of Pandas? \n"
   ]
  },
  {
   "cell_type": "code",
   "execution_count": 8,
   "id": "7a98ee88",
   "metadata": {},
   "outputs": [],
   "source": [
    "import pandas as pd"
   ]
  },
  {
   "cell_type": "code",
   "execution_count": 9,
   "id": "828a20a0",
   "metadata": {},
   "outputs": [
    {
     "data": {
      "text/plain": [
       "'1.3.0'"
      ]
     },
     "execution_count": 9,
     "metadata": {},
     "output_type": "execute_result"
    }
   ],
   "source": [
    "pd.__version__"
   ]
  },
  {
   "cell_type": "markdown",
   "id": "a598ead5",
   "metadata": {},
   "source": [
    "### Question 3\n",
    "\n",
    "What's the average price of BMW cars in the dataset?"
   ]
  },
  {
   "cell_type": "code",
   "execution_count": 26,
   "id": "608bb280",
   "metadata": {},
   "outputs": [],
   "source": [
    "df = pd.read_csv(f'./data/raw/{filename}')"
   ]
  },
  {
   "cell_type": "code",
   "execution_count": 39,
   "id": "ee0e7a4a",
   "metadata": {},
   "outputs": [
    {
     "data": {
      "text/plain": [
       "61546.76347305389"
      ]
     },
     "execution_count": 39,
     "metadata": {},
     "output_type": "execute_result"
    }
   ],
   "source": [
    "df[df.Make.str.upper() == 'BMW'].MSRP.mean()"
   ]
  },
  {
   "cell_type": "markdown",
   "id": "a32fe09f",
   "metadata": {},
   "source": [
    "### Question 4\n",
    "\n",
    "Select a subset of cars after year 2015 (inclusive, i.e. 2015 and after). How many of them have missing values for Engine HP?"
   ]
  },
  {
   "cell_type": "code",
   "execution_count": 44,
   "id": "d3ee4b0a",
   "metadata": {},
   "outputs": [
    {
     "data": {
      "text/plain": [
       "Engine HP    51\n",
       "dtype: int64"
      ]
     },
     "execution_count": 44,
     "metadata": {},
     "output_type": "execute_result"
    }
   ],
   "source": [
    "df[df.Year >= 2015].loc[:,['Engine HP']].isna().sum()"
   ]
  },
  {
   "cell_type": "markdown",
   "id": "fce65a66",
   "metadata": {},
   "source": [
    "### Question 5\n",
    "\n",
    "* Calculate the average \"Engine HP\" in the dataset. \n",
    "* Use the `fillna` method and to fill the missing values in \"Engine HP\" with the mean value from the previous step. \n",
    "* Now, calcualte the average of \"Engine HP\" again.\n",
    "* Has it changed? \n",
    "\n",
    "Round both means before answering this questions. You can use the `round` function for that:\n",
    "\n",
    "```python\n",
    "print(round(mean_hp_before))\n",
    "print(round(mean_hp_after))\n",
    "```\n"
   ]
  },
  {
   "cell_type": "code",
   "execution_count": 85,
   "id": "6d97384b",
   "metadata": {},
   "outputs": [
    {
     "name": "stdout",
     "output_type": "stream",
     "text": [
      "249.3860700718\n",
      "249.3860700718\n",
      "Has it changed?: 0.0\n"
     ]
    }
   ],
   "source": [
    "mean_hp_before = df['Engine HP'].mean()\n",
    "# mean_hp_after = df['Engine HP'].fillna(method='ffill').mean()\n",
    "mean_hp_after = df['Engine HP'].fillna(mean_hp_before).mean()\n",
    "\n",
    "print(round(mean_hp_before,10))\n",
    "print(round(mean_hp_after,10))\n",
    "\n",
    "print(f\"Has it changed?: {mean_hp_before - mean_hp_after}\")"
   ]
  },
  {
   "cell_type": "markdown",
   "id": "5e173533",
   "metadata": {},
   "source": [
    "### Question 6\n",
    "\n",
    "* Select all the \"Rolls-Royce\" cars from the dataset.\n",
    "* Select only columns \"Engine HP\", \"Engine Cylinders\", \"highway MPG\".\n",
    "* Now drop all duplicated rows using `drop_duplicates` method (you should get a dataframe with 7 rows).\n",
    "* Get the underlying NumPy array. Let's call it `X`.\n",
    "* Compute matrix-matrix multiplication between the transpose of `X` and `X`. To get the transpose, use `X.T`. Let's call the result `XTX`.\n",
    "* Invert `XTX`.\n",
    "* What's the sum of all the elements of the result?\n",
    "\n",
    "Hint: if the result is negative, re-read the task one more time\n"
   ]
  },
  {
   "cell_type": "code",
   "execution_count": 67,
   "id": "f519befd",
   "metadata": {},
   "outputs": [],
   "source": [
    "import numpy as np"
   ]
  },
  {
   "cell_type": "code",
   "execution_count": 65,
   "id": "4b77845f",
   "metadata": {},
   "outputs": [],
   "source": [
    "df_rr = df[df.Make.str.contains('ROLLs-', case=False)].copy()\n",
    "df_rr = df_rr[[ \"Engine HP\", \"Engine Cylinders\", \"highway MPG\"]]\n",
    "df_rr = df_rr.drop_duplicates()\n",
    "assert df_rr.shape[0] == 7, f\"you should get a dataframe with 7 rows, but got it {df_rr.shape[0]}\""
   ]
  },
  {
   "cell_type": "code",
   "execution_count": 73,
   "id": "35670505",
   "metadata": {},
   "outputs": [
    {
     "data": {
      "text/plain": [
       "0.032212320677486125"
      ]
     },
     "execution_count": 73,
     "metadata": {},
     "output_type": "execute_result"
    }
   ],
   "source": [
    "X = df_rr.values\n",
    "XTX = X.T.dot(X)\n",
    "XTX_inv = np.linalg.inv(XTX)\n",
    "XTX_inv.sum()"
   ]
  },
  {
   "cell_type": "markdown",
   "id": "5ae6b73c",
   "metadata": {},
   "source": [
    "### Questions 7 \n",
    "\n",
    "* Create an array `y` with values `[1000, 1100, 900, 1200, 1000, 850, 1300]`.\n",
    "* Multiply the inverse of `XTX` with the transpose of `X`, and then multiply the result by `y`. Call the result `w`.\n",
    "* What's the value of the first element of `w`?.\n",
    "\n",
    "> **Note**: You just implemented linear regression. We'll talk about it in the next lesson."
   ]
  },
  {
   "cell_type": "code",
   "execution_count": 83,
   "id": "1643287e",
   "metadata": {},
   "outputs": [
    {
     "data": {
      "text/plain": [
       "(0.19989598183188972, array([ 0.19989598, 31.02612262, 31.65378877]))"
      ]
     },
     "execution_count": 83,
     "metadata": {},
     "output_type": "execute_result"
    }
   ],
   "source": [
    "y = np.array([1000, 1100, 900, 1200, 1000, 850, 1300])\n",
    "w = (XTX_inv.dot(X.T)).dot(y)\n",
    "w[0], w"
   ]
  },
  {
   "cell_type": "markdown",
   "id": "ad891535",
   "metadata": {},
   "source": [
    "## Submit the results\n",
    "\n",
    "Submit your results here: https://forms.gle/aiunQqRtqcay8Wwo9.\n",
    "\n",
    "If your answer doesn't match options exactly, select the closest one."
   ]
  },
  {
   "cell_type": "code",
   "execution_count": null,
   "id": "457b3900",
   "metadata": {},
   "outputs": [],
   "source": []
  }
 ],
 "metadata": {
  "kernelspec": {
   "display_name": "bolsa_gatos_env",
   "language": "python",
   "name": "bolsa_gatos_env"
  },
  "language_info": {
   "codemirror_mode": {
    "name": "ipython",
    "version": 3
   },
   "file_extension": ".py",
   "mimetype": "text/x-python",
   "name": "python",
   "nbconvert_exporter": "python",
   "pygments_lexer": "ipython3",
   "version": "3.9.2"
  }
 },
 "nbformat": 4,
 "nbformat_minor": 5
}
