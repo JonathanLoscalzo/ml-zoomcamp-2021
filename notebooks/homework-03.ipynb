{
 "cells": [
  {
   "cell_type": "code",
   "execution_count": 3,
   "id": "26e301d7",
   "metadata": {},
   "outputs": [],
   "source": [
    "%config Completer.use_jedi = False"
   ]
  },
  {
   "cell_type": "code",
   "execution_count": 13,
   "id": "cbe28c38",
   "metadata": {},
   "outputs": [],
   "source": [
    "import pandas as pd\n",
    "import seaborn as sns\n",
    "import numpy as np\n",
    "import matplotlib.pyplot as plt\n",
    "from sklearn.model_selection import train_test_split\n",
    "\n",
    "plt.rcParams[\"figure.figsize\"] = [10,8]"
   ]
  },
  {
   "cell_type": "markdown",
   "id": "afafe711",
   "metadata": {},
   "source": [
    "## 3.15 Homework\n",
    "\n",
    "### Dataset\n",
    "\n",
    "In this homework, we will continue the New York City Airbnb Open Data. You can take it from\n",
    "[Kaggle](https://www.kaggle.com/dgomonov/new-york-city-airbnb-open-data?select=AB_NYC_2019.csv)\n",
    "or download from [here](https://raw.githubusercontent.com/alexeygrigorev/datasets/master/AB_NYC_2019.csv)\n",
    "if you don't want to sign up to Kaggle.\n",
    "\n",
    "We'll keep working with the `'price'` variable, and we'll transform it to a classification task.\n",
    "\n",
    "\n",
    "### Features\n",
    "\n",
    "For the rest of the homework, you'll need to use the features from the previous homework with additional two `'neighbourhood_group'` and `'room_type'`. So the whole feature set will be set as follows:\n",
    "\n",
    "* `'neighbourhood_group'`,\n",
    "* `'room_type'`,\n",
    "* `'latitude'`,\n",
    "* `'longitude'`,\n",
    "* `'price'`,\n",
    "* `'minimum_nights'`,\n",
    "* `'number_of_reviews'`,\n",
    "* `'reviews_per_month'`,\n",
    "* `'calculated_host_listings_count'`,\n",
    "* `'availability_365'`\n",
    "\n",
    "Select only them.\n"
   ]
  },
  {
   "cell_type": "code",
   "execution_count": 5,
   "id": "9d636a86",
   "metadata": {},
   "outputs": [],
   "source": [
    "df = pd.read_csv('../data/raw/AB_NYC_2019-hw2.csv', index_col=['id']).reset_index('id', drop=True)"
   ]
  },
  {
   "cell_type": "code",
   "execution_count": 54,
   "id": "6b664473",
   "metadata": {},
   "outputs": [
    {
     "data": {
      "text/html": [
       "<div>\n",
       "<style scoped>\n",
       "    .dataframe tbody tr th:only-of-type {\n",
       "        vertical-align: middle;\n",
       "    }\n",
       "\n",
       "    .dataframe tbody tr th {\n",
       "        vertical-align: top;\n",
       "    }\n",
       "\n",
       "    .dataframe thead th {\n",
       "        text-align: right;\n",
       "    }\n",
       "</style>\n",
       "<table border=\"1\" class=\"dataframe\">\n",
       "  <thead>\n",
       "    <tr style=\"text-align: right;\">\n",
       "      <th></th>\n",
       "      <th>neighbourhood_group</th>\n",
       "      <th>room_type</th>\n",
       "      <th>latitude</th>\n",
       "      <th>longitude</th>\n",
       "      <th>price</th>\n",
       "      <th>minimum_nights</th>\n",
       "      <th>number_of_reviews</th>\n",
       "      <th>reviews_per_month</th>\n",
       "      <th>calculated_host_listings_count</th>\n",
       "      <th>availability_365</th>\n",
       "    </tr>\n",
       "  </thead>\n",
       "  <tbody>\n",
       "    <tr>\n",
       "      <th>0</th>\n",
       "      <td>Brooklyn</td>\n",
       "      <td>Private room</td>\n",
       "      <td>40.64749</td>\n",
       "      <td>-73.97237</td>\n",
       "      <td>149</td>\n",
       "      <td>1</td>\n",
       "      <td>9</td>\n",
       "      <td>0.21</td>\n",
       "      <td>6</td>\n",
       "      <td>365</td>\n",
       "    </tr>\n",
       "    <tr>\n",
       "      <th>1</th>\n",
       "      <td>Manhattan</td>\n",
       "      <td>Entire home/apt</td>\n",
       "      <td>40.75362</td>\n",
       "      <td>-73.98377</td>\n",
       "      <td>225</td>\n",
       "      <td>1</td>\n",
       "      <td>45</td>\n",
       "      <td>0.38</td>\n",
       "      <td>2</td>\n",
       "      <td>355</td>\n",
       "    </tr>\n",
       "    <tr>\n",
       "      <th>2</th>\n",
       "      <td>Manhattan</td>\n",
       "      <td>Private room</td>\n",
       "      <td>40.80902</td>\n",
       "      <td>-73.94190</td>\n",
       "      <td>150</td>\n",
       "      <td>3</td>\n",
       "      <td>0</td>\n",
       "      <td>NaN</td>\n",
       "      <td>1</td>\n",
       "      <td>365</td>\n",
       "    </tr>\n",
       "    <tr>\n",
       "      <th>3</th>\n",
       "      <td>Brooklyn</td>\n",
       "      <td>Entire home/apt</td>\n",
       "      <td>40.68514</td>\n",
       "      <td>-73.95976</td>\n",
       "      <td>89</td>\n",
       "      <td>1</td>\n",
       "      <td>270</td>\n",
       "      <td>4.64</td>\n",
       "      <td>1</td>\n",
       "      <td>194</td>\n",
       "    </tr>\n",
       "    <tr>\n",
       "      <th>4</th>\n",
       "      <td>Manhattan</td>\n",
       "      <td>Entire home/apt</td>\n",
       "      <td>40.79851</td>\n",
       "      <td>-73.94399</td>\n",
       "      <td>80</td>\n",
       "      <td>10</td>\n",
       "      <td>9</td>\n",
       "      <td>0.10</td>\n",
       "      <td>1</td>\n",
       "      <td>0</td>\n",
       "    </tr>\n",
       "    <tr>\n",
       "      <th>...</th>\n",
       "      <td>...</td>\n",
       "      <td>...</td>\n",
       "      <td>...</td>\n",
       "      <td>...</td>\n",
       "      <td>...</td>\n",
       "      <td>...</td>\n",
       "      <td>...</td>\n",
       "      <td>...</td>\n",
       "      <td>...</td>\n",
       "      <td>...</td>\n",
       "    </tr>\n",
       "    <tr>\n",
       "      <th>48890</th>\n",
       "      <td>Brooklyn</td>\n",
       "      <td>Private room</td>\n",
       "      <td>40.67853</td>\n",
       "      <td>-73.94995</td>\n",
       "      <td>70</td>\n",
       "      <td>2</td>\n",
       "      <td>0</td>\n",
       "      <td>NaN</td>\n",
       "      <td>2</td>\n",
       "      <td>9</td>\n",
       "    </tr>\n",
       "    <tr>\n",
       "      <th>48891</th>\n",
       "      <td>Brooklyn</td>\n",
       "      <td>Private room</td>\n",
       "      <td>40.70184</td>\n",
       "      <td>-73.93317</td>\n",
       "      <td>40</td>\n",
       "      <td>4</td>\n",
       "      <td>0</td>\n",
       "      <td>NaN</td>\n",
       "      <td>2</td>\n",
       "      <td>36</td>\n",
       "    </tr>\n",
       "    <tr>\n",
       "      <th>48892</th>\n",
       "      <td>Manhattan</td>\n",
       "      <td>Entire home/apt</td>\n",
       "      <td>40.81475</td>\n",
       "      <td>-73.94867</td>\n",
       "      <td>115</td>\n",
       "      <td>10</td>\n",
       "      <td>0</td>\n",
       "      <td>NaN</td>\n",
       "      <td>1</td>\n",
       "      <td>27</td>\n",
       "    </tr>\n",
       "    <tr>\n",
       "      <th>48893</th>\n",
       "      <td>Manhattan</td>\n",
       "      <td>Shared room</td>\n",
       "      <td>40.75751</td>\n",
       "      <td>-73.99112</td>\n",
       "      <td>55</td>\n",
       "      <td>1</td>\n",
       "      <td>0</td>\n",
       "      <td>NaN</td>\n",
       "      <td>6</td>\n",
       "      <td>2</td>\n",
       "    </tr>\n",
       "    <tr>\n",
       "      <th>48894</th>\n",
       "      <td>Manhattan</td>\n",
       "      <td>Private room</td>\n",
       "      <td>40.76404</td>\n",
       "      <td>-73.98933</td>\n",
       "      <td>90</td>\n",
       "      <td>7</td>\n",
       "      <td>0</td>\n",
       "      <td>NaN</td>\n",
       "      <td>1</td>\n",
       "      <td>23</td>\n",
       "    </tr>\n",
       "  </tbody>\n",
       "</table>\n",
       "<p>48895 rows × 10 columns</p>\n",
       "</div>"
      ],
      "text/plain": [
       "      neighbourhood_group        room_type  latitude  longitude  price  \\\n",
       "0                Brooklyn     Private room  40.64749  -73.97237    149   \n",
       "1               Manhattan  Entire home/apt  40.75362  -73.98377    225   \n",
       "2               Manhattan     Private room  40.80902  -73.94190    150   \n",
       "3                Brooklyn  Entire home/apt  40.68514  -73.95976     89   \n",
       "4               Manhattan  Entire home/apt  40.79851  -73.94399     80   \n",
       "...                   ...              ...       ...        ...    ...   \n",
       "48890            Brooklyn     Private room  40.67853  -73.94995     70   \n",
       "48891            Brooklyn     Private room  40.70184  -73.93317     40   \n",
       "48892           Manhattan  Entire home/apt  40.81475  -73.94867    115   \n",
       "48893           Manhattan      Shared room  40.75751  -73.99112     55   \n",
       "48894           Manhattan     Private room  40.76404  -73.98933     90   \n",
       "\n",
       "       minimum_nights  number_of_reviews  reviews_per_month  \\\n",
       "0                   1                  9               0.21   \n",
       "1                   1                 45               0.38   \n",
       "2                   3                  0                NaN   \n",
       "3                   1                270               4.64   \n",
       "4                  10                  9               0.10   \n",
       "...               ...                ...                ...   \n",
       "48890               2                  0                NaN   \n",
       "48891               4                  0                NaN   \n",
       "48892              10                  0                NaN   \n",
       "48893               1                  0                NaN   \n",
       "48894               7                  0                NaN   \n",
       "\n",
       "       calculated_host_listings_count  availability_365  \n",
       "0                                   6               365  \n",
       "1                                   2               355  \n",
       "2                                   1               365  \n",
       "3                                   1               194  \n",
       "4                                   1                 0  \n",
       "...                               ...               ...  \n",
       "48890                               2                 9  \n",
       "48891                               2                36  \n",
       "48892                               1                27  \n",
       "48893                               6                 2  \n",
       "48894                               1                23  \n",
       "\n",
       "[48895 rows x 10 columns]"
      ]
     },
     "execution_count": 54,
     "metadata": {},
     "output_type": "execute_result"
    }
   ],
   "source": [
    "df = df[[ 'neighbourhood_group', 'room_type', 'latitude', 'longitude', 'price', 'minimum_nights', 'number_of_reviews', 'reviews_per_month', 'calculated_host_listings_count', 'availability_365' ]]\n",
    "df"
   ]
  },
  {
   "cell_type": "markdown",
   "id": "dff6ca64",
   "metadata": {},
   "source": [
    "### Question 1\n",
    "\n",
    "What is the most frequent observation (mode) for the column `'neighbourhood_group'`?"
   ]
  },
  {
   "cell_type": "code",
   "execution_count": 11,
   "id": "fc96db3c",
   "metadata": {},
   "outputs": [
    {
     "data": {
      "text/plain": [
       "Manhattan        21661\n",
       "Brooklyn         20104\n",
       "Queens            5666\n",
       "Bronx             1091\n",
       "Staten Island      373\n",
       "Name: neighbourhood_group, dtype: int64"
      ]
     },
     "execution_count": 11,
     "metadata": {},
     "output_type": "execute_result"
    }
   ],
   "source": [
    "df['neighbourhood_group'].value_counts() # answer is Manhattan"
   ]
  },
  {
   "cell_type": "markdown",
   "id": "c4c01f9f",
   "metadata": {},
   "source": [
    "### Split the data\n",
    "\n",
    "* Split your data in train/val/test sets, with 60%/20%/20% distribution.\n",
    "* Use Scikit-Learn for that (the `train_test_split` function) and set the seed to 42.\n",
    "* Make sure that the target value ('price') is not in your dataframe."
   ]
  },
  {
   "cell_type": "code",
   "execution_count": 16,
   "id": "1d93bcc8",
   "metadata": {},
   "outputs": [],
   "source": [
    "np.random.seed(42)\n",
    "\n",
    "X = df.loc[:, ~df.columns.isin(['price'])].copy()\n",
    "y = df.loc[:, [\"price\"]]\n",
    "\n",
    "X_full_train, X_test, y_full_train, y_test = train_test_split(X,y, test_size=0.20)\n",
    "X_train, X_val, y_train, y_val = train_test_split(X,y, test_size=0.25)\n",
    "\n",
    "assert 'price' not in X_full_train.columns\n",
    "\n"
   ]
  },
  {
   "cell_type": "markdown",
   "id": "fb67218d",
   "metadata": {},
   "source": [
    "### Question 2\n",
    "\n",
    "* Create the [correlation matrix](https://www.google.com/search?q=correlation+matrix) for the numerical features of your train dataset.\n",
    "   * In a correlation matrix, you compute the correlation coefficient between every pair of features in the dataset.\n",
    "* What are the two features that have the biggest correlation in this dataset?\n",
    "#### Answer 2:  \n",
    "reviews_per_month  <==>  number_of_reviews  <==> 0.548304\n",
    "\n",
    "<!-- \n",
    "Example of a correlation matrix for the car price dataset:\n",
    "\n",
    "<img src=\"images/correlation-matrix.png\" /> -->"
   ]
  },
  {
   "cell_type": "code",
   "execution_count": 37,
   "id": "e237039e",
   "metadata": {},
   "outputs": [
    {
     "data": {
      "text/plain": [
       "number_of_reviews               reviews_per_month                 0.548304\n",
       "reviews_per_month               number_of_reviews                 0.548304\n",
       "calculated_host_listings_count  availability_365                  0.224450\n",
       "availability_365                calculated_host_listings_count    0.224450\n",
       "                                reviews_per_month                 0.187967\n",
       "reviews_per_month               availability_365                  0.187967\n",
       "number_of_reviews               availability_365                  0.173581\n",
       "availability_365                number_of_reviews                 0.173581\n",
       "longitude                       reviews_per_month                 0.145313\n",
       "reviews_per_month               longitude                         0.145313\n",
       "availability_365                minimum_nights                    0.144307\n",
       "minimum_nights                  availability_365                  0.144307\n",
       "                                calculated_host_listings_count    0.127504\n",
       "calculated_host_listings_count  minimum_nights                    0.127504\n",
       "latitude                        longitude                         0.082727\n",
       "longitude                       latitude                          0.082727\n",
       "availability_365                longitude                         0.080599\n",
       "longitude                       availability_365                  0.080599\n",
       "                                number_of_reviews                 0.059010\n",
       "number_of_reviews               longitude                         0.059010\n",
       "minimum_nights                  latitude                          0.028433\n",
       "latitude                        minimum_nights                    0.028433\n",
       "                                calculated_host_listings_count    0.019547\n",
       "calculated_host_listings_count  latitude                          0.019547\n",
       "                                reviews_per_month                -0.007922\n",
       "reviews_per_month               calculated_host_listings_count   -0.007922\n",
       "latitude                        reviews_per_month                -0.008404\n",
       "reviews_per_month               latitude                         -0.008404\n",
       "latitude                        availability_365                 -0.013245\n",
       "availability_365                latitude                         -0.013245\n",
       "latitude                        number_of_reviews                -0.013640\n",
       "number_of_reviews               latitude                         -0.013640\n",
       "longitude                       minimum_nights                   -0.063684\n",
       "minimum_nights                  longitude                        -0.063684\n",
       "calculated_host_listings_count  number_of_reviews                -0.072679\n",
       "number_of_reviews               calculated_host_listings_count   -0.072679\n",
       "minimum_nights                  number_of_reviews                -0.081404\n",
       "number_of_reviews               minimum_nights                   -0.081404\n",
       "reviews_per_month               minimum_nights                   -0.115844\n",
       "minimum_nights                  reviews_per_month                -0.115844\n",
       "calculated_host_listings_count  longitude                        -0.115855\n",
       "longitude                       calculated_host_listings_count   -0.115855\n",
       "dtype: float64"
      ]
     },
     "execution_count": 37,
     "metadata": {},
     "output_type": "execute_result"
    }
   ],
   "source": [
    "X_train.select_dtypes(include=[\"number\"]).corr().stack()[lambda r: (-1<r) & (r<1)].sort_values(ascending=False)"
   ]
  },
  {
   "cell_type": "markdown",
   "id": "6ef99d88",
   "metadata": {},
   "source": [
    "### Question 3\n",
    "\n",
    "* Calculate the mutual information score for the two categorical variables that we have. Use the training set only.\n",
    "* Which of these two variables has bigger score?\n",
    "* Round it to 2 decimal digits using `round(score, 2)`"
   ]
  },
  {
   "cell_type": "code",
   "execution_count": 41,
   "id": "e36a47f8",
   "metadata": {},
   "outputs": [],
   "source": [
    "from sklearn.metrics import mutual_info_score"
   ]
  },
  {
   "cell_type": "code",
   "execution_count": 50,
   "id": "6b79b216",
   "metadata": {},
   "outputs": [
    {
     "data": {
      "text/html": [
       "<div>\n",
       "<style scoped>\n",
       "    .dataframe tbody tr th:only-of-type {\n",
       "        vertical-align: middle;\n",
       "    }\n",
       "\n",
       "    .dataframe tbody tr th {\n",
       "        vertical-align: top;\n",
       "    }\n",
       "\n",
       "    .dataframe thead th {\n",
       "        text-align: right;\n",
       "    }\n",
       "</style>\n",
       "<table border=\"1\" class=\"dataframe\">\n",
       "  <thead>\n",
       "    <tr style=\"text-align: right;\">\n",
       "      <th></th>\n",
       "      <th>neighbourhood_group</th>\n",
       "      <th>room_type</th>\n",
       "    </tr>\n",
       "  </thead>\n",
       "  <tbody>\n",
       "    <tr>\n",
       "      <th>9974</th>\n",
       "      <td>Queens</td>\n",
       "      <td>Private room</td>\n",
       "    </tr>\n",
       "    <tr>\n",
       "      <th>2685</th>\n",
       "      <td>Manhattan</td>\n",
       "      <td>Entire home/apt</td>\n",
       "    </tr>\n",
       "    <tr>\n",
       "      <th>22102</th>\n",
       "      <td>Brooklyn</td>\n",
       "      <td>Private room</td>\n",
       "    </tr>\n",
       "    <tr>\n",
       "      <th>39168</th>\n",
       "      <td>Brooklyn</td>\n",
       "      <td>Private room</td>\n",
       "    </tr>\n",
       "    <tr>\n",
       "      <th>36467</th>\n",
       "      <td>Manhattan</td>\n",
       "      <td>Private room</td>\n",
       "    </tr>\n",
       "    <tr>\n",
       "      <th>...</th>\n",
       "      <td>...</td>\n",
       "      <td>...</td>\n",
       "    </tr>\n",
       "    <tr>\n",
       "      <th>26618</th>\n",
       "      <td>Manhattan</td>\n",
       "      <td>Private room</td>\n",
       "    </tr>\n",
       "    <tr>\n",
       "      <th>10752</th>\n",
       "      <td>Manhattan</td>\n",
       "      <td>Private room</td>\n",
       "    </tr>\n",
       "    <tr>\n",
       "      <th>17506</th>\n",
       "      <td>Queens</td>\n",
       "      <td>Private room</td>\n",
       "    </tr>\n",
       "    <tr>\n",
       "      <th>9290</th>\n",
       "      <td>Brooklyn</td>\n",
       "      <td>Entire home/apt</td>\n",
       "    </tr>\n",
       "    <tr>\n",
       "      <th>24749</th>\n",
       "      <td>Queens</td>\n",
       "      <td>Entire home/apt</td>\n",
       "    </tr>\n",
       "  </tbody>\n",
       "</table>\n",
       "<p>36671 rows × 2 columns</p>\n",
       "</div>"
      ],
      "text/plain": [
       "      neighbourhood_group        room_type\n",
       "9974               Queens     Private room\n",
       "2685            Manhattan  Entire home/apt\n",
       "22102            Brooklyn     Private room\n",
       "39168            Brooklyn     Private room\n",
       "36467           Manhattan     Private room\n",
       "...                   ...              ...\n",
       "26618           Manhattan     Private room\n",
       "10752           Manhattan     Private room\n",
       "17506              Queens     Private room\n",
       "9290             Brooklyn  Entire home/apt\n",
       "24749              Queens  Entire home/apt\n",
       "\n",
       "[36671 rows x 2 columns]"
      ]
     },
     "execution_count": 50,
     "metadata": {},
     "output_type": "execute_result"
    }
   ],
   "source": [
    "cat_features = X_train.select_dtypes(include='object')\n",
    "cat_features"
   ]
  },
  {
   "cell_type": "code",
   "execution_count": 53,
   "id": "ce060a27",
   "metadata": {},
   "outputs": [
    {
     "data": {
      "text/plain": [
       "(0.016558962473902455, 0.016558962473902455)"
      ]
     },
     "execution_count": 53,
     "metadata": {},
     "output_type": "execute_result"
    }
   ],
   "source": [
    "mutual_info_score(cat_features.neighbourhood_group, cat_features.room_type), mutual_info_score(cat_features.room_type, cat_features.neighbourhood_group) # ?\n",
    "\n",
    "# I don't know what is the answer in this question..."
   ]
  },
  {
   "cell_type": "markdown",
   "id": "0c3e128a",
   "metadata": {},
   "source": [
    "### Question 4\n",
    "\n",
    "* Now let's train a logistic regression\n",
    "* For that, we need to turn our price prediction problem into a binary classification task.\n",
    "* Let's create a variable `above_average` which is `1` if the price is above (or equal to) `152`.\n",
    "* Remember that we have two categorical variables in the data. Include them using one-hot encoding.\n",
    "* Fit the model on the training dataset.\n",
    "   * To make sure the results are reproducible across different versions of Scikit-Learn, fit the model with these parameters:\n",
    "   * `model = LogisticRegression(solver='lbfgs', C=1.0, random_state=42)`\n",
    "* Calculate the accuracy on the validation dataset and rount it to 2 decimal digits."
   ]
  },
  {
   "cell_type": "code",
   "execution_count": 94,
   "id": "c174d405",
   "metadata": {},
   "outputs": [],
   "source": [
    "def set_above_average(y):\n",
    "    return y.assign(above_average = (y.price >= 152).astype('int'))\n",
    "\n",
    "y_full_train = set_above_average(y_full_train)\n",
    "y_train = set_above_average(y_train)\n",
    "y_val = set_above_average(y_val)\n",
    "y_test = set_above_average(y_test)"
   ]
  },
  {
   "cell_type": "code",
   "execution_count": 95,
   "id": "64ecae08",
   "metadata": {},
   "outputs": [
    {
     "data": {
      "text/plain": [
       "neighbourhood_group    5\n",
       "room_type              3\n",
       "dtype: int64"
      ]
     },
     "execution_count": 95,
     "metadata": {},
     "output_type": "execute_result"
    }
   ],
   "source": [
    "X_train.select_dtypes(['object']).nunique()"
   ]
  },
  {
   "cell_type": "code",
   "execution_count": 128,
   "id": "836d2f85",
   "metadata": {},
   "outputs": [],
   "source": [
    "from sklearn.feature_extraction import DictVectorizer\n",
    "# from sklearn.preprocessing import OneHotEncoder\n",
    "\n",
    "class PrepareInput():\n",
    "    def __init__(self):\n",
    "        self.vect = DictVectorizer(sparse=False)\n",
    "        \n",
    "    def fit(self, X):\n",
    "        train_dict = X.to_dict(orient='records')\n",
    "        self.vect.fit(train_dict)\n",
    "    \n",
    "    def transform(self, X):\n",
    "        X = X.copy()\n",
    "        # fillna with 0...\n",
    "        X = X.fillna(0)\n",
    "        return self.vect.transform(X.to_dict(orient='records'))"
   ]
  },
  {
   "cell_type": "code",
   "execution_count": 129,
   "id": "1226112f",
   "metadata": {},
   "outputs": [],
   "source": [
    "fi = PrepareInput()\n",
    "fi.fit(X_train)"
   ]
  },
  {
   "cell_type": "code",
   "execution_count": 130,
   "id": "c1950197",
   "metadata": {},
   "outputs": [],
   "source": [
    "from sklearn.linear_model import LogisticRegression\n",
    "model = LogisticRegression(solver='lbfgs', C=1.0, random_state=42, verbose=True)"
   ]
  },
  {
   "cell_type": "code",
   "execution_count": 131,
   "id": "15d53e52",
   "metadata": {},
   "outputs": [
    {
     "name": "stderr",
     "output_type": "stream",
     "text": [
      "[Parallel(n_jobs=1)]: Using backend SequentialBackend with 1 concurrent workers.\n",
      "/home/jloscalzo/.pyenv/versions/bolsa_gatos_env/lib/python3.9/site-packages/sklearn/linear_model/_logistic.py:763: ConvergenceWarning: lbfgs failed to converge (status=1):\n",
      "STOP: TOTAL NO. of ITERATIONS REACHED LIMIT.\n",
      "\n",
      "Increase the number of iterations (max_iter) or scale the data as shown in:\n",
      "    https://scikit-learn.org/stable/modules/preprocessing.html\n",
      "Please also refer to the documentation for alternative solver options:\n",
      "    https://scikit-learn.org/stable/modules/linear_model.html#logistic-regression\n",
      "  n_iter_i = _check_optimize_result(\n",
      "[Parallel(n_jobs=1)]: Done   1 out of   1 | elapsed:    0.6s finished\n"
     ]
    },
    {
     "data": {
      "text/plain": [
       "LogisticRegression(random_state=42, verbose=True)"
      ]
     },
     "execution_count": 131,
     "metadata": {},
     "output_type": "execute_result"
    }
   ],
   "source": [
    "model.fit(fi.transform(X_train), y_train['above_average'])"
   ]
  },
  {
   "cell_type": "code",
   "execution_count": 132,
   "id": "0c4021e6",
   "metadata": {},
   "outputs": [
    {
     "name": "stdout",
     "output_type": "stream",
     "text": [
      "0.7868128272251309\n",
      "0.7868128272251309\n"
     ]
    }
   ],
   "source": [
    "from sklearn.metrics import accuracy_score\n",
    "\n",
    "print(accuracy_score(y_val['above_average'], model.predict(fi.transform(X_val))))\n",
    "\n",
    "print((model.predict(fi.transform(X_val)) == y_val['above_average']).mean())"
   ]
  },
  {
   "cell_type": "code",
   "execution_count": 134,
   "id": "8cc54b95",
   "metadata": {},
   "outputs": [],
   "source": [
    "acc_val_all_features = accuracy_score(y_val['above_average'], model.predict(fi.transform(X_val)))\n",
    "acc_train_all_features = accuracy_score(y_train['above_average'], model.predict(fi.transform(X_train)))"
   ]
  },
  {
   "cell_type": "code",
   "execution_count": 134,
   "id": "02ba2948",
   "metadata": {},
   "outputs": [],
   "source": [
    "# answer of Q4 is 0.78"
   ]
  },
  {
   "cell_type": "markdown",
   "id": "d73cee0a",
   "metadata": {},
   "source": [
    "### Question 5\n",
    "\n",
    "* We have 10 features: 8 numerical features and 2 categorical.\n",
    "* Let's find the least useful one using the *feature elimination* technique.\n",
    "* Train a model with all these features (using the same parameters as in Q4).\n",
    "* Now exclude each feature from this set and train a model without it. Record the accuracy for each model.\n",
    "* For each feature, calculate the difference between the original accuracy and the accuracy without the feature. \n",
    "* Which of following feature has the smallest difference? \n",
    "   * `neighbourhood_group`\n",
    "   * `room_type` \n",
    "   * `number_of_reviews`\n",
    "   * `reviews_per_month`\n",
    "\n",
    "> **note**: the difference doesn't have to be positive"
   ]
  },
  {
   "cell_type": "code",
   "execution_count": 138,
   "id": "a4be4354",
   "metadata": {},
   "outputs": [],
   "source": [
    "from warnings import simplefilter\n",
    "from sklearn.exceptions import ConvergenceWarning\n",
    "simplefilter(\"ignore\", category=ConvergenceWarning)"
   ]
  },
  {
   "cell_type": "code",
   "execution_count": 144,
   "id": "d097a0ff",
   "metadata": {},
   "outputs": [
    {
     "name": "stdout",
     "output_type": "stream",
     "text": [
      "\n",
      "With all features: \n",
      "- training: 0.7897521202039759\n",
      "- validation: 0.7868128272251309\n",
      "**************************************************\n",
      "\n",
      "\n",
      "    Excluding Feature neighbourhood_group - Training: 0.735758501268032 - Validation: 0.7285667539267016\n",
      "    Difference: training  0.053994 - Validation: 0.058246 \n",
      "    **************************************************\n",
      "    \n",
      "\n",
      "    Excluding Feature room_type - Training: 0.7097161244580186 - Validation: 0.7049247382198953\n",
      "    Difference: training  0.080036 - Validation: 0.081888 \n",
      "    **************************************************\n",
      "    \n",
      "\n",
      "    Excluding Feature latitude - Training: 0.3041640533391508 - Validation: 0.3067735602094241\n",
      "    Difference: training  0.485588 - Validation: 0.480039 \n",
      "    **************************************************\n",
      "    \n",
      "\n",
      "    Excluding Feature longitude - Training: 0.6958632161653623 - Validation: 0.693226439790576\n",
      "    Difference: training  0.093889 - Validation: 0.093586 \n",
      "    **************************************************\n",
      "    \n",
      "\n",
      "    Excluding Feature minimum_nights - Training: 0.7882795669602684 - Validation: 0.7850948952879581\n",
      "    Difference: training  0.001473 - Validation: 0.001718 \n",
      "    **************************************************\n",
      "    \n",
      "\n",
      "    Excluding Feature number_of_reviews - Training: 0.7880886804286766 - Validation: 0.784604057591623\n",
      "    Difference: training  0.001663 - Validation: 0.002209 \n",
      "    **************************************************\n",
      "    \n",
      "\n",
      "    Excluding Feature reviews_per_month - Training: 0.7894521556543318 - Validation: 0.7860765706806283\n",
      "    Difference: training  0.000300 - Validation: 0.000736 \n",
      "    **************************************************\n",
      "    \n",
      "\n",
      "    Excluding Feature calculated_host_listings_count - Training: 0.7893976166453055 - Validation: 0.7863219895287958\n",
      "    Difference: training  0.000355 - Validation: 0.000491 \n",
      "    **************************************************\n",
      "    \n",
      "\n",
      "    Excluding Feature availability_365 - Training: 0.7837528292110932 - Validation: 0.7787958115183246\n",
      "    Difference: training  0.005999 - Validation: 0.008017 \n",
      "    **************************************************\n",
      "    \n"
     ]
    }
   ],
   "source": [
    "print(f\"\"\"\n",
    "With all features: \n",
    "- training: {acc_train_all_features}\n",
    "- validation: {acc_val_all_features}\n",
    "{50*\"*\"}\n",
    "\"\"\")\n",
    "\n",
    "differences = {}\n",
    "\n",
    "for column in X_train.columns:\n",
    "    # remove column from train\n",
    "    model_5 = LogisticRegression(solver='lbfgs', C=1.0, random_state=42, verbose=False)\n",
    "    \n",
    "    model_5.fit(fi.transform(X_train), y_train['above_average'])\n",
    "    train_selected = X_train.loc[:, lambda df: ~df.columns.isin([column])]\n",
    "    score_train = accuracy_score(y_train['above_average'], model_5.predict(fi.transform(train_selected)))\n",
    "    \n",
    "    val_selected = X_val.loc[:, lambda df: ~df.columns.isin([column])]\n",
    "    score_val = accuracy_score(y_val['above_average'], model_5.predict(fi.transform(val_selected)))\n",
    "    \n",
    "    print(f\"\"\"\n",
    "    Excluding Feature {column} - Training: {score_train} - Validation: {score_val}\n",
    "    Difference: training {acc_train_all_features - score_train : .6f} - Validation: {acc_val_all_features - score_val:.6f} \n",
    "    {50*\"*\"}\n",
    "    \"\"\")\n",
    "    \n",
    "    differences[column] = {\"score_train\": score_train, \"score_val\": score_val, \"diff_train\":acc_train_all_features - score_train, \"diff_val\":acc_val_all_features - score_val}\n",
    "\n",
    "    "
   ]
  },
  {
   "cell_type": "code",
   "execution_count": 149,
   "id": "bbb965e3",
   "metadata": {},
   "outputs": [
    {
     "data": {
      "text/plain": [
       "{'neighbourhood_group': {'score_train': 0.735758501268032,\n",
       "  'score_val': 0.7285667539267016,\n",
       "  'diff_train': 0.0539936189359439,\n",
       "  'diff_val': 0.058246073298429346},\n",
       " 'room_type': {'score_train': 0.7097161244580186,\n",
       "  'score_val': 0.7049247382198953,\n",
       "  'diff_train': 0.08003599574595732,\n",
       "  'diff_val': 0.08188808900523559},\n",
       " 'number_of_reviews': {'score_train': 0.7880886804286766,\n",
       "  'score_val': 0.784604057591623,\n",
       "  'diff_train': 0.001663439775299258,\n",
       "  'diff_val': 0.002208769633507912},\n",
       " 'reviews_per_month': {'score_train': 0.7894521556543318,\n",
       "  'score_val': 0.7860765706806283,\n",
       "  'diff_train': 0.0002999645496440939,\n",
       "  'diff_val': 0.0007362565445026004}}"
      ]
     },
     "execution_count": 149,
     "metadata": {},
     "output_type": "execute_result"
    }
   ],
   "source": [
    "{key: value for key, value in differences.items() if key in ['neighbourhood_group', 'room_type', 'number_of_reviews', 'reviews_per_month', ] }"
   ]
  },
  {
   "cell_type": "code",
   "execution_count": null,
   "id": "67ae0af8",
   "metadata": {},
   "outputs": [],
   "source": [
    "# answer is reviews_per_month"
   ]
  },
  {
   "cell_type": "markdown",
   "id": "1d24129e",
   "metadata": {},
   "source": [
    "### Question 6\n",
    "\n",
    "* For this question, we'll see how to use a linear regression model from Scikit-Learn\n",
    "* We'll need to use the original column `'price'`. Apply the logarithmic transformation to this column.\n",
    "* Fit the Ridge regression model on the training data.\n",
    "* This model has a parameter `alpha`. Let's try the following values: `[0, 0.01, 0.1, 1, 10]`\n",
    "* Which of these alphas leads to the best RMSE on the validation set? Round your RMSE scores to 3 decimal digits.\n",
    "\n",
    "If there are multiple options, select the smallest `alpha`."
   ]
  },
  {
   "cell_type": "code",
   "execution_count": 150,
   "id": "977ab32a",
   "metadata": {},
   "outputs": [],
   "source": [
    "def set_price_log(y):\n",
    "    return y.assign(price_log = np.log1p(y.price))\n",
    "\n",
    "y_full_train = set_price_log(y_full_train)\n",
    "y_train = set_price_log(y_train)\n",
    "y_val = set_price_log(y_val)\n",
    "y_test = set_price_log(y_test)"
   ]
  },
  {
   "cell_type": "code",
   "execution_count": 151,
   "id": "96b7a0fa",
   "metadata": {},
   "outputs": [
    {
     "name": "stderr",
     "output_type": "stream",
     "text": [
      "/home/jloscalzo/.pyenv/versions/bolsa_gatos_env/lib/python3.9/site-packages/sklearn/linear_model/_ridge.py:147: LinAlgWarning: Ill-conditioned matrix (rcond=3.2623e-21): result may not be accurate.\n",
      "  return linalg.solve(A, Xy, sym_pos=True,\n"
     ]
    },
    {
     "name": "stdout",
     "output_type": "stream",
     "text": [
      "Model with alpha: 0 - Train 0.0077 - Val 0.0069\n",
      "Model with alpha: 0.01 - Train 0.0077 - Val 0.0069\n",
      "Model with alpha: 0.1 - Train 0.0077 - Val 0.0069\n",
      "Model with alpha: 1 - Train 0.0077 - Val 0.0069\n",
      "Model with alpha: 10 - Train 0.0077 - Val 0.0069\n"
     ]
    }
   ],
   "source": [
    "from sklearn.linear_model import Ridge\n",
    "from sklearn.metrics import mean_squared_error, mean_squared_log_error\n",
    "\n",
    "alphas = [0, 0.01, 0.1, 1, 10]\n",
    "\n",
    "for alpha in alphas: \n",
    "    model = Ridge(alpha = alpha, random_state=42)\n",
    "    model.fit(fi.transform(X_train), y_train['price_log'])\n",
    "    score_train = round(mean_squared_log_error(y_train.price_log, model.predict(fi.transform(X_train))), 4)\n",
    "    score_val = round(mean_squared_log_error(y_val.price_log, model.predict(fi.transform(X_val))), 4)\n",
    "    print(f\"Model with alpha: {alpha} - Train {score_train} - Val {score_val}\")\n",
    "    \n"
   ]
  },
  {
   "cell_type": "code",
   "execution_count": null,
   "id": "ea7bd0a5",
   "metadata": {},
   "outputs": [],
   "source": [
    "# answer same values for all alphas (?) "
   ]
  }
 ],
 "metadata": {
  "kernelspec": {
   "display_name": "bolsa_gatos_env",
   "language": "python",
   "name": "bolsa_gatos_env"
  },
  "language_info": {
   "codemirror_mode": {
    "name": "ipython",
    "version": 3
   },
   "file_extension": ".py",
   "mimetype": "text/x-python",
   "name": "python",
   "nbconvert_exporter": "python",
   "pygments_lexer": "ipython3",
   "version": "3.9.2"
  }
 },
 "nbformat": 4,
 "nbformat_minor": 5
}
