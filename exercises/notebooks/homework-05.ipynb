{
 "cells": [
  {
   "cell_type": "markdown",
   "id": "994d6580-1502-4ef0-a9f8-896a14a826f1",
   "metadata": {},
   "source": [
    "## 5.10 Homework\n",
    "\n",
    "In this homework, we'll use the churn prediction model trained on a smaller set of features."
   ]
  },
  {
   "cell_type": "markdown",
   "id": "dc385456-d227-4a86-ab0a-59f2ba73c53d",
   "metadata": {},
   "source": [
    "## Question 1\n",
    "\n",
    "* Install Pipenv\n",
    "* What's the version of pipenv you installed?\n",
    "* Use `--version` to find out"
   ]
  },
  {
   "cell_type": "code",
   "execution_count": 1,
   "id": "f0b6360f-161c-4fe6-8cae-3fbead4fbd9a",
   "metadata": {
    "scrolled": true,
    "tags": []
   },
   "outputs": [
    {
     "name": "stdout",
     "output_type": "stream",
     "text": [
      "Collecting pipenv\n",
      "  Using cached pipenv-2021.5.29-py2.py3-none-any.whl (3.9 MB)\n",
      "Requirement already satisfied: pip>=18.0 in /usr/lib/python3/dist-packages (from pipenv) (20.0.2)\n",
      "Requirement already satisfied: setuptools>=36.2.1 in /usr/lib/python3/dist-packages (from pipenv) (45.2.0)\n",
      "Requirement already satisfied: virtualenv in /home/jloscalzo/.local/lib/python3.8/site-packages (from pipenv) (20.7.2)\n",
      "Collecting virtualenv-clone>=0.2.5\n",
      "  Using cached virtualenv_clone-0.5.7-py3-none-any.whl (6.6 kB)\n",
      "Requirement already satisfied: certifi in /usr/lib/python3/dist-packages (from pipenv) (2019.11.28)\n",
      "Requirement already satisfied: six<2,>=1.9.0 in /usr/lib/python3/dist-packages (from virtualenv->pipenv) (1.14.0)\n",
      "Requirement already satisfied: platformdirs<3,>=2 in /home/jloscalzo/.local/lib/python3.8/site-packages (from virtualenv->pipenv) (2.2.0)\n",
      "Requirement already satisfied: distlib<1,>=0.3.1 in /home/jloscalzo/.local/lib/python3.8/site-packages (from virtualenv->pipenv) (0.3.2)\n",
      "Requirement already satisfied: backports.entry-points-selectable>=1.0.4 in /home/jloscalzo/.local/lib/python3.8/site-packages (from virtualenv->pipenv) (1.1.0)\n",
      "Requirement already satisfied: filelock<4,>=3.0.0 in /home/jloscalzo/.local/lib/python3.8/site-packages (from virtualenv->pipenv) (3.0.12)\n",
      "Installing collected packages: virtualenv-clone, pipenv\n",
      "Successfully installed pipenv-2021.5.29 virtualenv-clone-0.5.7\n"
     ]
    }
   ],
   "source": [
    "!pip install pipenv"
   ]
  },
  {
   "cell_type": "code",
   "execution_count": 4,
   "id": "81d71fbc-4c25-44eb-882d-79535e17450d",
   "metadata": {},
   "outputs": [
    {
     "name": "stdout",
     "output_type": "stream",
     "text": [
      "\u001b[39m\u001b[1mpipenv\u001b[39m\u001b[22m, version 2021.5.29\n",
      "\u001b[0m"
     ]
    }
   ],
   "source": [
    "!pipenv --version"
   ]
  },
  {
   "cell_type": "markdown",
   "id": "b83b846a-464e-4f32-b20b-d223e982fafe",
   "metadata": {},
   "source": [
    "## Question 2\n",
    "\n",
    "* Use Pipenv to install Scikit-Learn version 1.0\n",
    "* What's the first hash for scikit-learn you get in Pipfile.lock? "
   ]
  },
  {
   "cell_type": "code",
   "execution_count": 5,
   "id": "f5d32eb5-7225-4fc9-840b-352d52eb9955",
   "metadata": {},
   "outputs": [
    {
     "name": "stdout",
     "output_type": "stream",
     "text": [
      "\u001b[39m\u001b[1mCreating a Pipfile for this project...\u001b[39m\u001b[22m\n",
      "\u001b[39m\u001b[1mInstalling \u001b[32m\u001b[1mscikit-learn==1.0\u001b[39m\u001b[22m...\u001b[39m\u001b[22m\n",
      "\u001b[K\u001b[39m\u001b[1mAdding\u001b[39m\u001b[22m \u001b[32m\u001b[1mscikit-learn\u001b[39m\u001b[22m \u001b[39m\u001b[1mto Pipfile's\u001b[39m\u001b[22m \u001b[33m\u001b[1m[packages]\u001b[39m\u001b[22m\u001b[39m\u001b[1m...\u001b[39m\u001b[22m\n",
      "\u001b[K\u001b[?25h✔ Installation Succeeded\u001b[0m \n",
      "\u001b[39m\u001b[1mPipfile.lock not found, creating...\u001b[39m\u001b[22m\n",
      "\u001b[39m\u001b[22mLocking\u001b[39m\u001b[22m \u001b[33m\u001b[22m[dev-packages]\u001b[39m\u001b[22m \u001b[39m\u001b[22mdependencies...\u001b[39m\u001b[22m\n",
      "\u001b[39m\u001b[22mLocking\u001b[39m\u001b[22m \u001b[33m\u001b[22m[packages]\u001b[39m\u001b[22m \u001b[39m\u001b[22mdependencies...\u001b[39m\u001b[22m\n",
      "\u001b[K\u001b[KBuilding requirements...\n",
      "\u001b[KResolving dependencies...\n",
      "\u001b[K\u001b[?25h\u001b[32m\u001b[22m✔ Success!\u001b[39m\u001b[22m\u001b[0m \n",
      "\u001b[39m\u001b[1mUpdated Pipfile.lock (6c8284)!\u001b[39m\u001b[22m\n",
      "\u001b[39m\u001b[1mInstalling dependencies from Pipfile.lock (6c8284)...\u001b[39m\u001b[22m\n",
      "\n",
      "To activate this project's virtualenv, run \u001b[33m\u001b[22mpipenv shell\u001b[39m\u001b[22m.\n",
      "Alternatively, run a command inside the virtualenv with \u001b[33m\u001b[22mpipenv run\u001b[39m\u001b[22m.\n",
      "\u001b[0m"
     ]
    }
   ],
   "source": [
    "!pipenv install scikit-learn==1.0"
   ]
  },
  {
   "cell_type": "markdown",
   "id": "cc23d2fa-55a3-4648-8cf7-db31376a4c41",
   "metadata": {},
   "source": [
    "## Question 3"
   ]
  },
  {
   "cell_type": "code",
   "execution_count": 13,
   "id": "01d64f3d-bece-40ed-add6-ee9f5701e6ff",
   "metadata": {},
   "outputs": [
    {
     "name": "stdout",
     "output_type": "stream",
     "text": [
      "env: PREFIX=https://raw.githubusercontent.com/alexeygrigorev/mlbookcamp-code/master/course-zoomcamp/05-deployment/homework\n",
      "--2021-10-10 16:32:35--  https://raw.githubusercontent.com/alexeygrigorev/mlbookcamp-code/master/course-zoomcamp/05-deployment/homework/model1.bin\n",
      "Resolviendo raw.githubusercontent.com (raw.githubusercontent.com)... 185.199.111.133, 185.199.110.133, 185.199.109.133, ...\n",
      "Conectando con raw.githubusercontent.com (raw.githubusercontent.com)[185.199.111.133]:443... conectado.\n",
      "Petición HTTP enviada, esperando respuesta... 200 OK\n",
      "Longitud: 746 [application/octet-stream]\n",
      "Guardando como: “../data/models/model1.bin”\n",
      "\n",
      "../data/models/mode 100%[===================>]     746  --.-KB/s    en 0s      \n",
      "\n",
      "2021-10-10 16:32:35 (34,5 MB/s) - “../data/models/model1.bin” guardado [746/746]\n",
      "\n",
      "--2021-10-10 16:32:35--  https://raw.githubusercontent.com/alexeygrigorev/mlbookcamp-code/master/course-zoomcamp/05-deployment/homework/dv.bin\n",
      "Resolviendo raw.githubusercontent.com (raw.githubusercontent.com)... 185.199.111.133, 185.199.110.133, 185.199.109.133, ...\n",
      "Conectando con raw.githubusercontent.com (raw.githubusercontent.com)[185.199.111.133]:443... conectado.\n",
      "Petición HTTP enviada, esperando respuesta... 200 OK\n",
      "Longitud: 323 [application/octet-stream]\n",
      "Guardando como: “../data/models/dv.bin”\n",
      "\n",
      "../data/models/dv.b 100%[===================>]     323  --.-KB/s    en 0s      \n",
      "\n",
      "2021-10-10 16:32:35 (20,0 MB/s) - “../data/models/dv.bin” guardado [323/323]\n",
      "\n"
     ]
    }
   ],
   "source": [
    "# pipenv shell\n",
    "# pipenv run\n",
    "%env PREFIX=https://raw.githubusercontent.com/alexeygrigorev/mlbookcamp-code/master/course-zoomcamp/05-deployment/homework\n",
    "\n",
    "!wget -O ../data/models/model1.bin $PREFIX/model1.bin\n",
    "!wget -O ../data/models/dv.bin $PREFIX/dv.bin"
   ]
  },
  {
   "cell_type": "markdown",
   "id": "c3e0ca2c-71fb-4956-99cc-f5275f62ad5f",
   "metadata": {},
   "source": [
    "Let's use these models!\n",
    "\n",
    "* Write a script for loading these models with pickle\n",
    "* Score this customer:\n",
    "\n",
    "```json\n",
    "{\"contract\": \"two_year\", \"tenure\": 12, \"monthlycharges\": 19.7}\n",
    "```\n",
    "\n",
    "What's the probability that this customer is churning? "
   ]
  },
  {
   "cell_type": "code",
   "execution_count": 7,
   "id": "915bb260-7ca2-4cd7-b3b4-004b1b719b2e",
   "metadata": {},
   "outputs": [],
   "source": [
    "import pickle"
   ]
  },
  {
   "cell_type": "code",
   "execution_count": 12,
   "id": "e09ec2db-3872-44e7-b965-9770b3b19b07",
   "metadata": {},
   "outputs": [
    {
     "name": "stderr",
     "output_type": "stream",
     "text": [
      "/home/jloscalzo/.pyenv/versions/engagement_env/lib/python3.9/site-packages/sklearn/base.py:310: UserWarning: Trying to unpickle estimator DictVectorizer from version 1.0 when using version 0.24.2. This might lead to breaking code or invalid results. Use at your own risk.\n",
      "  warnings.warn(\n"
     ]
    }
   ],
   "source": [
    "with open('../data/models/dv.bin', 'rb') as file:\n",
    "    dv = pickle.load(file)"
   ]
  },
  {
   "cell_type": "code",
   "execution_count": 9,
   "id": "cdeb71e9-0a34-4195-8b39-6b1e10ec5e22",
   "metadata": {},
   "outputs": [
    {
     "name": "stderr",
     "output_type": "stream",
     "text": [
      "/home/jloscalzo/.pyenv/versions/engagement_env/lib/python3.9/site-packages/sklearn/base.py:310: UserWarning: Trying to unpickle estimator LogisticRegression from version 1.0 when using version 0.24.2. This might lead to breaking code or invalid results. Use at your own risk.\n",
      "  warnings.warn(\n"
     ]
    }
   ],
   "source": [
    "with open('../data/models/model1.bin', 'rb') as file:\n",
    "    model = pickle.load(file)"
   ]
  },
  {
   "cell_type": "code",
   "execution_count": 10,
   "id": "e4cf7b0b-e942-4af9-962b-afb188228834",
   "metadata": {},
   "outputs": [],
   "source": [
    "input_data = [{\"contract\": \"two_year\", \"tenure\": 12, \"monthlycharges\": 19.7}]"
   ]
  },
  {
   "cell_type": "code",
   "execution_count": 11,
   "id": "0d96b0a6-4c85-47a5-8af2-56507752f474",
   "metadata": {},
   "outputs": [
    {
     "data": {
      "text/plain": [
       "array([[0.88450419, 0.11549581]])"
      ]
     },
     "execution_count": 11,
     "metadata": {},
     "output_type": "execute_result"
    }
   ],
   "source": [
    "model.predict_proba(dv.transform(input_data))"
   ]
  },
  {
   "cell_type": "markdown",
   "id": "d5f9cef5-e2de-4d86-87a4-14cd7130d770",
   "metadata": {},
   "source": [
    "## Question 4\n",
    "\n",
    "Now let's serve this model as a web service\n",
    "\n",
    "* Install Flask and Gunicorn (or waitress, if you're on Windows)\n",
    "* Write Flask code for serving the model\n",
    "* Now score this customer using `requests`:\n",
    "\n",
    "```python\n",
    "url = \"YOUR_URL\"\n",
    "customer = {\"contract\": \"two_year\", \"tenure\": 1, \"monthlycharges\": 10}\n",
    "requests.post(url, json=customer).json()\n",
    "```\n",
    "\n",
    "What's the probability that this customer is churning?"
   ]
  },
  {
   "cell_type": "code",
   "execution_count": 17,
   "id": "4ff79a40-4fa9-46d1-bb89-8ff279d54316",
   "metadata": {},
   "outputs": [
    {
     "name": "stdout",
     "output_type": "stream",
     "text": [
      "Requirement already satisfied: requests in /usr/lib/python3/dist-packages (2.22.0)\n"
     ]
    }
   ],
   "source": [
    "# cd notebooks\n",
    "# pipenv shell\n",
    "# cd ..\n",
    "# python scripts/homework5/serving.py\n",
    "!pip install requests\n",
    "import requests\n",
    "import json"
   ]
  },
  {
   "cell_type": "code",
   "execution_count": 35,
   "metadata": {},
   "outputs": [
    {
     "data": {
      "text/plain": [
       "{'churn': True, 'churn_probability': 0.9988892771007961}"
      ]
     },
     "execution_count": 35,
     "metadata": {},
     "output_type": "execute_result"
    }
   ],
   "source": [
    "url = \"http://localhost:1234/predict\"\n",
    "customer = {\"contract\": \"two_year\", \"tenure\": 1, \"monthlycharges\": 10}\n",
    "\n",
    "requests.post(url, json=customer).json()"
   ]
  },
  {
   "cell_type": "markdown",
   "metadata": {},
   "source": [
    "## Question 5\n",
    "\n",
    "Now create your own Dockerfile based on the image I prepared.\n",
    "\n",
    "It should start like that:\n",
    "\n",
    "```docker\n",
    "FROM agrigorev/zoomcamp-model:3.8.12-slim\n",
    "# add your stuff here\n",
    "```\n",
    "\n",
    "Now complete it:\n",
    "\n",
    "* Install all the dependencies form the Pipenv file\n",
    "* Copy your Flask script\n",
    "* Run it with gunicorn \n",
    "\n",
    "\n",
    "When you build your image, what's the image id for `agrigorev/zoomcamp-model:3.8.12-slim`?\n",
    "\n",
    "Look at the first step of your build log. It should look something like that:\n",
    "\n",
    "```\n",
    "$ docker some-command-for-building\n",
    "Sending build context to Docker daemon  2.048kB\n",
    "Step 1/N : FROM agrigorev/zoomcamp-model:3.8.12-slim\n",
    " ---> XXXXXXXXXXXX\n",
    "Step 2/N : ....\n",
    "```\n",
    "\n",
    "You need this `XXXXXXXXXXXX`.\n",
    "\n",
    "Alternatively, you can get this information when running `docker images` - it'll be in the \"IMAGE ID\" column.\n",
    "Submitting DIGEST (long string starting with \"sha256\") is also fine.\n"
   ]
  },
  {
   "cell_type": "markdown",
   "metadata": {},
   "source": [
    "# cd ../\n",
    "# docker build --pull --rm -f \"Dockerfile\" -t mlzoomcamp2021:latest \".\"\n",
    "# or\n",
    "# docker build --pull --rm -f \"Dockerfile\" -t mlzoomcamp2021:latest \"../\"\n",
    "\n"
   ]
  },
  {
   "cell_type": "markdown",
   "metadata": {},
   "source": [
    "## Question 6\n",
    "\n",
    "Let's run your docker container!\n",
    "\n",
    "After running it, score this customer:\n",
    "\n",
    "```python\n",
    "url = \"YOUR_URL\"\n",
    "customer = {\"contract\": \"two_year\", \"tenure\": 12, \"monthlycharges\": 10}\n",
    "requests.post(url, json=customer).json()\n",
    "```\n",
    "\n",
    "What's the probability that this customer is churning?"
   ]
  },
  {
   "cell_type": "code",
   "execution_count": 43,
   "metadata": {},
   "outputs": [
    {
     "data": {
      "text/plain": [
       "{'churn': False, 'churn_probability': 0.32940789808151005}"
      ]
     },
     "execution_count": 43,
     "metadata": {},
     "output_type": "execute_result"
    }
   ],
   "source": [
    "# docker run --rm -d  -p 1235:1235/tcp mlzoomcamp2021:latest\n",
    "url = \"http://localhost:1235/predict\"\n",
    "customer = {\"contract\": \"two_year\", \"tenure\": 12, \"monthlycharges\": 10}\n",
    "requests.post(url, json=customer).json()"
   ]
  },
  {
   "cell_type": "markdown",
   "metadata": {},
   "source": []
  }
 ],
 "metadata": {
  "kernelspec": {
   "display_name": "engagement_env",
   "language": "python",
   "name": "engagement_env"
  },
  "language_info": {
   "codemirror_mode": {
    "name": "ipython",
    "version": 3
   },
   "file_extension": ".py",
   "mimetype": "text/x-python",
   "name": "python",
   "nbconvert_exporter": "python",
   "pygments_lexer": "ipython3",
   "version": "3.9.2"
  }
 },
 "nbformat": 4,
 "nbformat_minor": 5
}
